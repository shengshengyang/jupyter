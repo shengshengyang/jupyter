{
 "cells": [
  {
   "cell_type": "markdown",
   "metadata": {},
   "source": [
    "## 安裝LangChain 及 openai"
   ]
  },
  {
   "cell_type": "code",
   "execution_count": null,
   "metadata": {},
   "outputs": [],
   "source": [
    "!pip install langchain\n",
    "!pip install openai\n",
    "\n"
   ]
  },
  {
   "cell_type": "markdown",
   "metadata": {},
   "source": [
    "## 使用 LangChain 呼叫 OpenAI API\n",
    "\n",
    "這是一個示範如何使用 `langchain` 套件來呼叫 OpenAI API 的 Jupyter Notebook。\n"
   ]
  },
  {
   "cell_type": "code",
   "execution_count": null,
   "metadata": {},
   "outputs": [],
   "source": [
    "# 導入所需的套件\n",
    "from langchain.llms import OpenAI\n",
    "\n",
    "# 初始化 OpenAI 物件\n",
    "# 假設你已經有了一個 API 密鑰並將其儲存為環境變數\n",
    "openai_api_key = \"your-openai-api-key\"\n",
    "openai = OpenAI(api_key=openai_api_key)\n"
   ]
  },
  {
   "cell_type": "markdown",
   "metadata": {},
   "source": [
    "## 定義一個問題並使用 OpenAI API 獲得回答\n",
    "\n",
    "在這裡，我們定義一個問題並使用 OpenAI API 來獲得答案。"
   ]
  },
  {
   "cell_type": "code",
   "execution_count": null,
   "metadata": {},
   "outputs": [],
   "source": [
    "# 定義一個問題，並將其放入列表中\n",
    "questions = [\"教我怎麼用jupyter\"]\n",
    "\n",
    "# 使用 OpenAI API 獲得回答\n",
    "response = openai.generate(questions)\n",
    "print(response)\n",
    "\n"
   ]
  }
 ],
 "metadata": {
  "kernelspec": {
   "display_name": "Python 3",
   "language": "python",
   "name": "python3"
  },
  "language_info": {
   "codemirror_mode": {
    "name": "ipython",
    "version": 3
   },
   "file_extension": ".py",
   "mimetype": "text/x-python",
   "name": "python",
   "nbconvert_exporter": "python",
   "pygments_lexer": "ipython3",
   "version": "3.11.4"
  }
 },
 "nbformat": 4,
 "nbformat_minor": 2
}
