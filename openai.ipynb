{
 "cells": [
  {
   "cell_type": "markdown",
   "metadata": {},
   "source": [
    "## 安裝LangChain 及 openai"
   ]
  },
  {
   "cell_type": "code",
   "execution_count": null,
   "metadata": {},
   "outputs": [],
   "source": [
    "!pip install langchain\n",
    "!pip install openai\n",
    "\n"
   ]
  },
  {
   "cell_type": "markdown",
   "metadata": {},
   "source": [
    "## 使用 LangChain 呼叫 OpenAI API\n",
    "\n",
    "這是一個示範如何使用 `langchain` 套件來呼叫 OpenAI API 的 Jupyter Notebook。\n"
   ]
  },
  {
   "cell_type": "code",
   "execution_count": 10,
   "metadata": {},
   "outputs": [],
   "source": [
    "# 導入所需的套件\n",
    "from langchain.llms import OpenAI\n",
    "\n",
    "# 初始化 OpenAI 物件\n",
    "# 假設你已經有了一個 API 密鑰並將其儲存為環境變數\n",
    "openai_api_key = \"your-openai-api-key\"\n",
    "openai = OpenAI(api_key=openai_api_key)\n"
   ]
  },
  {
   "cell_type": "markdown",
   "metadata": {},
   "source": [
    "## 定義一個問題並使用 OpenAI API 獲得回答\n",
    "\n",
    "在這裡，我們定義一個問題並使用 OpenAI API 來獲得答案。"
   ]
  },
  {
   "cell_type": "code",
   "execution_count": 12,
   "metadata": {},
   "outputs": [
    {
     "name": "stdout",
     "output_type": "stream",
     "text": [
      "generations=[[Generation(text=' notebook\\n\\n1. 首先，安裝Jupyter Notebook： \\n    a. 在電腦上安裝Python（建議安裝Anaconda，它包含了許多科學計算所需的套件）\\n    b. 開啟命令提示字元或終端機，輸入以下指令安裝Jupyter Notebook： \\n        pip install jupyter notebook\\n\\n2. 開啟Jupyter Notebook： \\n    a. 在命令提示字元或終端機中，輸入jupyter notebook\\n    b. 或者在開始選單中找到Jupyter Notebook應用程式，點擊開啟\\n\\n3. 創建新的筆記本： \\n    a. 在Jupyter Notebook首頁點擊右上角的New按鈕，選擇Python 3（或其他你想要使用的語言）\\n    b. 或者在首頁左上角的File選', generation_info={'finish_reason': 'length', 'logprobs': None})]] llm_output={'token_usage': {'completion_tokens': 255, 'total_tokens': 266, 'prompt_tokens': 11}, 'model_name': 'gpt-3.5-turbo-instruct'} run=[RunInfo(run_id=UUID('2cf08b69-9bf7-46a3-a142-c3b65bb18384'))]\n"
     ]
    }
   ],
   "source": [
    "# 定義一個問題，並將其放入列表中\n",
    "questions = [\"教我怎麼用jupyter\"]\n",
    "\n",
    "# 使用 OpenAI API 獲得回答\n",
    "response = openai.generate(questions)\n",
    "print(response)\n",
    "\n"
   ]
  }
 ],
 "metadata": {
  "kernelspec": {
   "display_name": "Python 3",
   "language": "python",
   "name": "python3"
  },
  "language_info": {
   "codemirror_mode": {
    "name": "ipython",
    "version": 3
   },
   "file_extension": ".py",
   "mimetype": "text/x-python",
   "name": "python",
   "nbconvert_exporter": "python",
   "pygments_lexer": "ipython3",
   "version": "3.11.4"
  }
 },
 "nbformat": 4,
 "nbformat_minor": 2
}
